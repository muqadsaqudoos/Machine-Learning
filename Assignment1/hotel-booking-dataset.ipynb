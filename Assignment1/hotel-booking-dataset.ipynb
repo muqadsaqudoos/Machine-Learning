{
 "cells": [
  {
   "cell_type": "code",
   "execution_count": 1,
   "id": "a9aeac01",
   "metadata": {
    "_cell_guid": "b1076dfc-b9ad-4769-8c92-a6c4dae69d19",
    "_uuid": "8f2839f25d086af736a60e9eeb907d3b93b6e0e5",
    "execution": {
     "iopub.execute_input": "2025-02-15T13:36:26.360586Z",
     "iopub.status.busy": "2025-02-15T13:36:26.360151Z",
     "iopub.status.idle": "2025-02-15T13:36:27.223850Z",
     "shell.execute_reply": "2025-02-15T13:36:27.222630Z"
    },
    "papermill": {
     "duration": 0.871183,
     "end_time": "2025-02-15T13:36:27.225716",
     "exception": false,
     "start_time": "2025-02-15T13:36:26.354533",
     "status": "completed"
    },
    "tags": []
   },
   "outputs": [
    {
     "name": "stdout",
     "output_type": "stream",
     "text": [
      "/kaggle/input/hotel-booking-demand/hotel_bookings.csv\n"
     ]
    }
   ],
   "source": [
    "# This Python 3 environment comes with many helpful analytics libraries installed\n",
    "# It is defined by the kaggle/python Docker image: https://github.com/kaggle/docker-python\n",
    "# For example, here's several helpful packages to load\n",
    "\n",
    "import numpy as np # linear algebra\n",
    "import pandas as pd # data processing, CSV file I/O (e.g. pd.read_csv)\n",
    "\n",
    "# Input data files are available in the read-only \"../input/\" directory\n",
    "# For example, running this (by clicking run or pressing Shift+Enter) will list all files under the input directory\n",
    "\n",
    "import os\n",
    "for dirname, _, filenames in os.walk('/kaggle/input'):\n",
    "    for filename in filenames:\n",
    "        print(os.path.join(dirname, filename))\n",
    "\n",
    "# You can write up to 20GB to the current directory (/kaggle/working/) that gets preserved as output when you create a version using \"Save & Run All\" \n",
    "# You can also write temporary files to /kaggle/temp/, but they won't be saved outside of the current session"
   ]
  },
  {
   "cell_type": "code",
   "execution_count": 2,
   "id": "9663eab9",
   "metadata": {
    "execution": {
     "iopub.execute_input": "2025-02-15T13:36:27.235291Z",
     "iopub.status.busy": "2025-02-15T13:36:27.234751Z",
     "iopub.status.idle": "2025-02-15T13:36:27.913245Z",
     "shell.execute_reply": "2025-02-15T13:36:27.912009Z"
    },
    "papermill": {
     "duration": 0.684951,
     "end_time": "2025-02-15T13:36:27.914944",
     "exception": false,
     "start_time": "2025-02-15T13:36:27.229993",
     "status": "completed"
    },
    "tags": []
   },
   "outputs": [
    {
     "name": "stdout",
     "output_type": "stream",
     "text": [
      "hotel                                  0\n",
      "is_canceled                            0\n",
      "lead_time                              0\n",
      "arrival_date_year                      0\n",
      "arrival_date_month                     0\n",
      "arrival_date_week_number               0\n",
      "arrival_date_day_of_month              0\n",
      "stays_in_weekend_nights                0\n",
      "stays_in_week_nights                   0\n",
      "adults                                 0\n",
      "children                               4\n",
      "babies                                 0\n",
      "meal                                   0\n",
      "country                              488\n",
      "market_segment                         0\n",
      "distribution_channel                   0\n",
      "is_repeated_guest                      0\n",
      "previous_cancellations                 0\n",
      "previous_bookings_not_canceled         0\n",
      "reserved_room_type                     0\n",
      "assigned_room_type                     0\n",
      "booking_changes                        0\n",
      "deposit_type                           0\n",
      "agent                              16340\n",
      "company                           112593\n",
      "days_in_waiting_list                   0\n",
      "customer_type                          0\n",
      "adr                                    0\n",
      "required_car_parking_spaces            0\n",
      "total_of_special_requests              0\n",
      "reservation_status                     0\n",
      "reservation_status_date                0\n",
      "dtype: int64\n"
     ]
    }
   ],
   "source": [
    "df = pd.read_csv('/kaggle/input/hotel-booking-demand/hotel_bookings.csv')\n",
    "print(df.isnull().sum())"
   ]
  },
  {
   "cell_type": "code",
   "execution_count": 3,
   "id": "7ae82f0c",
   "metadata": {
    "execution": {
     "iopub.execute_input": "2025-02-15T13:36:27.923687Z",
     "iopub.status.busy": "2025-02-15T13:36:27.923349Z",
     "iopub.status.idle": "2025-02-15T13:36:27.951247Z",
     "shell.execute_reply": "2025-02-15T13:36:27.949665Z"
    },
    "papermill": {
     "duration": 0.034036,
     "end_time": "2025-02-15T13:36:27.952961",
     "exception": false,
     "start_time": "2025-02-15T13:36:27.918925",
     "status": "completed"
    },
    "tags": []
   },
   "outputs": [
    {
     "name": "stdout",
     "output_type": "stream",
     "text": [
      "          hotel  is_canceled  lead_time  arrival_date_year arrival_date_month  \\\n",
      "0  Resort Hotel            0        342               2015               July   \n",
      "1  Resort Hotel            0        737               2015               July   \n",
      "2  Resort Hotel            0          7               2015               July   \n",
      "3  Resort Hotel            0         13               2015               July   \n",
      "4  Resort Hotel            0         14               2015               July   \n",
      "\n",
      "   arrival_date_week_number  arrival_date_day_of_month  \\\n",
      "0                        27                          1   \n",
      "1                        27                          1   \n",
      "2                        27                          1   \n",
      "3                        27                          1   \n",
      "4                        27                          1   \n",
      "\n",
      "   stays_in_weekend_nights  stays_in_week_nights  adults  ...  deposit_type  \\\n",
      "0                        0                     0       2  ...    No Deposit   \n",
      "1                        0                     0       2  ...    No Deposit   \n",
      "2                        0                     1       1  ...    No Deposit   \n",
      "3                        0                     1       1  ...    No Deposit   \n",
      "4                        0                     2       2  ...    No Deposit   \n",
      "\n",
      "   agent company days_in_waiting_list customer_type   adr  \\\n",
      "0    NaN     NaN                    0     Transient   0.0   \n",
      "1    NaN     NaN                    0     Transient   0.0   \n",
      "2    NaN     NaN                    0     Transient  75.0   \n",
      "3  304.0     NaN                    0     Transient  75.0   \n",
      "4  240.0     NaN                    0     Transient  98.0   \n",
      "\n",
      "   required_car_parking_spaces  total_of_special_requests  reservation_status  \\\n",
      "0                            0                          0           Check-Out   \n",
      "1                            0                          0           Check-Out   \n",
      "2                            0                          0           Check-Out   \n",
      "3                            0                          0           Check-Out   \n",
      "4                            0                          1           Check-Out   \n",
      "\n",
      "  reservation_status_date  \n",
      "0              2015-07-01  \n",
      "1              2015-07-01  \n",
      "2              2015-07-02  \n",
      "3              2015-07-02  \n",
      "4              2015-07-03  \n",
      "\n",
      "[5 rows x 32 columns]\n"
     ]
    },
    {
     "name": "stderr",
     "output_type": "stream",
     "text": [
      "/usr/local/lib/python3.10/dist-packages/pandas/io/formats/format.py:1458: RuntimeWarning: invalid value encountered in greater\n",
      "  has_large_values = (abs_vals > 1e6).any()\n",
      "/usr/local/lib/python3.10/dist-packages/pandas/io/formats/format.py:1459: RuntimeWarning: invalid value encountered in less\n",
      "  has_small_values = ((abs_vals < 10 ** (-self.digits)) & (abs_vals > 0)).any()\n",
      "/usr/local/lib/python3.10/dist-packages/pandas/io/formats/format.py:1459: RuntimeWarning: invalid value encountered in greater\n",
      "  has_small_values = ((abs_vals < 10 ** (-self.digits)) & (abs_vals > 0)).any()\n"
     ]
    }
   ],
   "source": [
    "print(df.head())"
   ]
  },
  {
   "cell_type": "code",
   "execution_count": 4,
   "id": "0db4fee7",
   "metadata": {
    "execution": {
     "iopub.execute_input": "2025-02-15T13:36:27.962263Z",
     "iopub.status.busy": "2025-02-15T13:36:27.961866Z",
     "iopub.status.idle": "2025-02-15T13:36:28.067266Z",
     "shell.execute_reply": "2025-02-15T13:36:28.065848Z"
    },
    "papermill": {
     "duration": 0.11205,
     "end_time": "2025-02-15T13:36:28.069097",
     "exception": false,
     "start_time": "2025-02-15T13:36:27.957047",
     "status": "completed"
    },
    "tags": []
   },
   "outputs": [
    {
     "name": "stdout",
     "output_type": "stream",
     "text": [
      "hotel                                  0\n",
      "is_canceled                            0\n",
      "lead_time                              0\n",
      "arrival_date_year                      0\n",
      "arrival_date_month                     0\n",
      "arrival_date_week_number               0\n",
      "arrival_date_day_of_month              0\n",
      "stays_in_weekend_nights                0\n",
      "stays_in_week_nights                   0\n",
      "adults                                 0\n",
      "children                               0\n",
      "babies                                 0\n",
      "meal                                   0\n",
      "country                                0\n",
      "market_segment                         0\n",
      "distribution_channel                   0\n",
      "is_repeated_guest                      0\n",
      "previous_cancellations                 0\n",
      "previous_bookings_not_canceled         0\n",
      "reserved_room_type                     0\n",
      "assigned_room_type                     0\n",
      "booking_changes                        0\n",
      "deposit_type                           0\n",
      "agent                                  0\n",
      "company                           112593\n",
      "days_in_waiting_list                   0\n",
      "customer_type                          0\n",
      "adr                                    0\n",
      "required_car_parking_spaces            0\n",
      "total_of_special_requests              0\n",
      "reservation_status                     0\n",
      "reservation_status_date                0\n",
      "dtype: int64\n",
      "119390\n"
     ]
    }
   ],
   "source": [
    "df['children'] = df['children'].fillna(df['children'].mean())\n",
    "df['country'] = df['country'].fillna(df['country'].mode()[0])\n",
    "df.loc[:, \"agent\"] = df[\"agent\"].fillna(0)\n",
    "print(df.isnull().sum())\n",
    "print(len(df))\n"
   ]
  },
  {
   "cell_type": "code",
   "execution_count": 5,
   "id": "e793d6b2",
   "metadata": {
    "execution": {
     "iopub.execute_input": "2025-02-15T13:36:28.078793Z",
     "iopub.status.busy": "2025-02-15T13:36:28.078429Z",
     "iopub.status.idle": "2025-02-15T13:36:28.189899Z",
     "shell.execute_reply": "2025-02-15T13:36:28.188637Z"
    },
    "papermill": {
     "duration": 0.118262,
     "end_time": "2025-02-15T13:36:28.191746",
     "exception": false,
     "start_time": "2025-02-15T13:36:28.073484",
     "status": "completed"
    },
    "tags": []
   },
   "outputs": [
    {
     "name": "stdout",
     "output_type": "stream",
     "text": [
      "hotel                             0\n",
      "is_canceled                       0\n",
      "lead_time                         0\n",
      "arrival_date_year                 0\n",
      "arrival_date_month                0\n",
      "arrival_date_week_number          0\n",
      "arrival_date_day_of_month         0\n",
      "stays_in_weekend_nights           0\n",
      "stays_in_week_nights              0\n",
      "adults                            0\n",
      "children                          0\n",
      "babies                            0\n",
      "meal                              0\n",
      "country                           0\n",
      "market_segment                    0\n",
      "distribution_channel              0\n",
      "is_repeated_guest                 0\n",
      "previous_cancellations            0\n",
      "previous_bookings_not_canceled    0\n",
      "reserved_room_type                0\n",
      "assigned_room_type                0\n",
      "booking_changes                   0\n",
      "deposit_type                      0\n",
      "agent                             0\n",
      "days_in_waiting_list              0\n",
      "customer_type                     0\n",
      "adr                               0\n",
      "required_car_parking_spaces       0\n",
      "total_of_special_requests         0\n",
      "reservation_status                0\n",
      "reservation_status_date           0\n",
      "dtype: int64\n"
     ]
    }
   ],
   "source": [
    "df.drop(columns=[\"company\"], inplace=True)\n",
    "print(df.isnull().sum())"
   ]
  },
  {
   "cell_type": "code",
   "execution_count": 6,
   "id": "519f871f",
   "metadata": {
    "execution": {
     "iopub.execute_input": "2025-02-15T13:36:28.202000Z",
     "iopub.status.busy": "2025-02-15T13:36:28.201666Z",
     "iopub.status.idle": "2025-02-15T13:36:28.460551Z",
     "shell.execute_reply": "2025-02-15T13:36:28.459280Z"
    },
    "papermill": {
     "duration": 0.265817,
     "end_time": "2025-02-15T13:36:28.462203",
     "exception": false,
     "start_time": "2025-02-15T13:36:28.196386",
     "status": "completed"
    },
    "tags": []
   },
   "outputs": [
    {
     "name": "stdout",
     "output_type": "stream",
     "text": [
      "Duplicates removed: 0\n"
     ]
    }
   ],
   "source": [
    "df.drop_duplicates(inplace=True)\n",
    "print(f\"Duplicates removed: {df.duplicated().sum()}\")"
   ]
  },
  {
   "cell_type": "code",
   "execution_count": 7,
   "id": "adee53d6",
   "metadata": {
    "execution": {
     "iopub.execute_input": "2025-02-15T13:36:28.472383Z",
     "iopub.status.busy": "2025-02-15T13:36:28.472043Z",
     "iopub.status.idle": "2025-02-15T13:36:28.484183Z",
     "shell.execute_reply": "2025-02-15T13:36:28.482974Z"
    },
    "papermill": {
     "duration": 0.019083,
     "end_time": "2025-02-15T13:36:28.485944",
     "exception": false,
     "start_time": "2025-02-15T13:36:28.466861",
     "status": "completed"
    },
    "tags": []
   },
   "outputs": [
    {
     "name": "stdout",
     "output_type": "stream",
     "text": [
      "          hotel  is_canceled  lead_time  arrival_date_year arrival_date_month  \\\n",
      "0  Resort Hotel            0        342               2015               July   \n",
      "1  Resort Hotel            0        737               2015               July   \n",
      "2  Resort Hotel            0          7               2015               July   \n",
      "3  Resort Hotel            0         13               2015               July   \n",
      "4  Resort Hotel            0         14               2015               July   \n",
      "\n",
      "   arrival_date_week_number  arrival_date_day_of_month  \\\n",
      "0                        27                          1   \n",
      "1                        27                          1   \n",
      "2                        27                          1   \n",
      "3                        27                          1   \n",
      "4                        27                          1   \n",
      "\n",
      "   stays_in_weekend_nights  stays_in_week_nights  adults  ...  \\\n",
      "0                        0                     0       2  ...   \n",
      "1                        0                     0       2  ...   \n",
      "2                        0                     1       1  ...   \n",
      "3                        0                     1       1  ...   \n",
      "4                        0                     2       2  ...   \n",
      "\n",
      "   booking_changes  deposit_type  agent days_in_waiting_list customer_type  \\\n",
      "0                3    No Deposit    0.0                    0     Transient   \n",
      "1                4    No Deposit    0.0                    0     Transient   \n",
      "2                0    No Deposit    0.0                    0     Transient   \n",
      "3                0    No Deposit  304.0                    0     Transient   \n",
      "4                0    No Deposit  240.0                    0     Transient   \n",
      "\n",
      "    adr  required_car_parking_spaces  total_of_special_requests  \\\n",
      "0   0.0                            0                          0   \n",
      "1   0.0                            0                          0   \n",
      "2  75.0                            0                          0   \n",
      "3  75.0                            0                          0   \n",
      "4  98.0                            0                          1   \n",
      "\n",
      "   reservation_status reservation_status_date  \n",
      "0           Check-Out              2015-07-01  \n",
      "1           Check-Out              2015-07-01  \n",
      "2           Check-Out              2015-07-02  \n",
      "3           Check-Out              2015-07-02  \n",
      "4           Check-Out              2015-07-03  \n",
      "\n",
      "[5 rows x 31 columns]\n"
     ]
    }
   ],
   "source": [
    "print(df.head())"
   ]
  },
  {
   "cell_type": "code",
   "execution_count": 8,
   "id": "4965db2f",
   "metadata": {
    "execution": {
     "iopub.execute_input": "2025-02-15T13:36:28.496053Z",
     "iopub.status.busy": "2025-02-15T13:36:28.495677Z",
     "iopub.status.idle": "2025-02-15T13:36:28.547294Z",
     "shell.execute_reply": "2025-02-15T13:36:28.546298Z"
    },
    "papermill": {
     "duration": 0.058656,
     "end_time": "2025-02-15T13:36:28.549154",
     "exception": false,
     "start_time": "2025-02-15T13:36:28.490498",
     "status": "completed"
    },
    "tags": []
   },
   "outputs": [],
   "source": [
    "month_order = ['January', 'February', 'March', 'April', 'May', 'June', \n",
    "               'July', 'August', 'September', 'October', 'November', 'December']\n",
    "\n",
    "# Convert categorical month names to numerical values based on order\n",
    "df['arrival_date_month'] = df['arrival_date_month'].map(lambda x: month_order.index(x) + 1)\n"
   ]
  },
  {
   "cell_type": "code",
   "execution_count": 9,
   "id": "6882d0e0",
   "metadata": {
    "execution": {
     "iopub.execute_input": "2025-02-15T13:36:28.559176Z",
     "iopub.status.busy": "2025-02-15T13:36:28.558825Z",
     "iopub.status.idle": "2025-02-15T13:36:28.586613Z",
     "shell.execute_reply": "2025-02-15T13:36:28.585333Z"
    },
    "papermill": {
     "duration": 0.034783,
     "end_time": "2025-02-15T13:36:28.588521",
     "exception": false,
     "start_time": "2025-02-15T13:36:28.553738",
     "status": "completed"
    },
    "tags": []
   },
   "outputs": [
    {
     "name": "stdout",
     "output_type": "stream",
     "text": [
      "<bound method NDFrame.head of                hotel  is_canceled  lead_time  arrival_date_year  \\\n",
      "0       Resort Hotel            0        342               2015   \n",
      "1       Resort Hotel            0        737               2015   \n",
      "2       Resort Hotel            0          7               2015   \n",
      "3       Resort Hotel            0         13               2015   \n",
      "4       Resort Hotel            0         14               2015   \n",
      "...              ...          ...        ...                ...   \n",
      "119385    City Hotel            0         23               2017   \n",
      "119386    City Hotel            0        102               2017   \n",
      "119387    City Hotel            0         34               2017   \n",
      "119388    City Hotel            0        109               2017   \n",
      "119389    City Hotel            0        205               2017   \n",
      "\n",
      "        arrival_date_month  arrival_date_week_number  \\\n",
      "0                        7                        27   \n",
      "1                        7                        27   \n",
      "2                        7                        27   \n",
      "3                        7                        27   \n",
      "4                        7                        27   \n",
      "...                    ...                       ...   \n",
      "119385                   8                        35   \n",
      "119386                   8                        35   \n",
      "119387                   8                        35   \n",
      "119388                   8                        35   \n",
      "119389                   8                        35   \n",
      "\n",
      "        arrival_date_day_of_month  stays_in_weekend_nights  \\\n",
      "0                               1                        0   \n",
      "1                               1                        0   \n",
      "2                               1                        0   \n",
      "3                               1                        0   \n",
      "4                               1                        0   \n",
      "...                           ...                      ...   \n",
      "119385                         30                        2   \n",
      "119386                         31                        2   \n",
      "119387                         31                        2   \n",
      "119388                         31                        2   \n",
      "119389                         29                        2   \n",
      "\n",
      "        stays_in_week_nights  adults  ...  booking_changes  deposit_type  \\\n",
      "0                          0       2  ...                3    No Deposit   \n",
      "1                          0       2  ...                4    No Deposit   \n",
      "2                          1       1  ...                0    No Deposit   \n",
      "3                          1       1  ...                0    No Deposit   \n",
      "4                          2       2  ...                0    No Deposit   \n",
      "...                      ...     ...  ...              ...           ...   \n",
      "119385                     5       2  ...                0    No Deposit   \n",
      "119386                     5       3  ...                0    No Deposit   \n",
      "119387                     5       2  ...                0    No Deposit   \n",
      "119388                     5       2  ...                0    No Deposit   \n",
      "119389                     7       2  ...                0    No Deposit   \n",
      "\n",
      "        agent days_in_waiting_list customer_type     adr  \\\n",
      "0         0.0                    0     Transient    0.00   \n",
      "1         0.0                    0     Transient    0.00   \n",
      "2         0.0                    0     Transient   75.00   \n",
      "3       304.0                    0     Transient   75.00   \n",
      "4       240.0                    0     Transient   98.00   \n",
      "...       ...                  ...           ...     ...   \n",
      "119385  394.0                    0     Transient   96.14   \n",
      "119386    9.0                    0     Transient  225.43   \n",
      "119387    9.0                    0     Transient  157.71   \n",
      "119388   89.0                    0     Transient  104.40   \n",
      "119389    9.0                    0     Transient  151.20   \n",
      "\n",
      "        required_car_parking_spaces  total_of_special_requests  \\\n",
      "0                                 0                          0   \n",
      "1                                 0                          0   \n",
      "2                                 0                          0   \n",
      "3                                 0                          0   \n",
      "4                                 0                          1   \n",
      "...                             ...                        ...   \n",
      "119385                            0                          0   \n",
      "119386                            0                          2   \n",
      "119387                            0                          4   \n",
      "119388                            0                          0   \n",
      "119389                            0                          2   \n",
      "\n",
      "        reservation_status reservation_status_date  \n",
      "0                Check-Out              2015-07-01  \n",
      "1                Check-Out              2015-07-01  \n",
      "2                Check-Out              2015-07-02  \n",
      "3                Check-Out              2015-07-02  \n",
      "4                Check-Out              2015-07-03  \n",
      "...                    ...                     ...  \n",
      "119385           Check-Out              2017-09-06  \n",
      "119386           Check-Out              2017-09-07  \n",
      "119387           Check-Out              2017-09-07  \n",
      "119388           Check-Out              2017-09-07  \n",
      "119389           Check-Out              2017-09-07  \n",
      "\n",
      "[87370 rows x 31 columns]>\n"
     ]
    }
   ],
   "source": [
    "print(df.head)"
   ]
  },
  {
   "cell_type": "code",
   "execution_count": 10,
   "id": "8ed4a289",
   "metadata": {
    "execution": {
     "iopub.execute_input": "2025-02-15T13:36:28.598898Z",
     "iopub.status.busy": "2025-02-15T13:36:28.598551Z",
     "iopub.status.idle": "2025-02-15T13:36:28.699422Z",
     "shell.execute_reply": "2025-02-15T13:36:28.698066Z"
    },
    "papermill": {
     "duration": 0.108132,
     "end_time": "2025-02-15T13:36:28.701309",
     "exception": false,
     "start_time": "2025-02-15T13:36:28.593177",
     "status": "completed"
    },
    "tags": []
   },
   "outputs": [
    {
     "name": "stdout",
     "output_type": "stream",
     "text": [
      "<bound method NDFrame.head of         is_canceled  lead_time  arrival_date_year  arrival_date_month  \\\n",
      "0                 0        342               2015                   7   \n",
      "1                 0        737               2015                   7   \n",
      "2                 0          7               2015                   7   \n",
      "3                 0         13               2015                   7   \n",
      "4                 0         14               2015                   7   \n",
      "...             ...        ...                ...                 ...   \n",
      "119385            0         23               2017                   8   \n",
      "119386            0        102               2017                   8   \n",
      "119387            0         34               2017                   8   \n",
      "119388            0        109               2017                   8   \n",
      "119389            0        205               2017                   8   \n",
      "\n",
      "        arrival_date_week_number  arrival_date_day_of_month  \\\n",
      "0                             27                          1   \n",
      "1                             27                          1   \n",
      "2                             27                          1   \n",
      "3                             27                          1   \n",
      "4                             27                          1   \n",
      "...                          ...                        ...   \n",
      "119385                        35                         30   \n",
      "119386                        35                         31   \n",
      "119387                        35                         31   \n",
      "119388                        35                         31   \n",
      "119389                        35                         29   \n",
      "\n",
      "        stays_in_weekend_nights  stays_in_week_nights  adults  children  ...  \\\n",
      "0                             0                     0       2       0.0  ...   \n",
      "1                             0                     0       2       0.0  ...   \n",
      "2                             0                     1       1       0.0  ...   \n",
      "3                             0                     1       1       0.0  ...   \n",
      "4                             0                     2       2       0.0  ...   \n",
      "...                         ...                   ...     ...       ...  ...   \n",
      "119385                        2                     5       2       0.0  ...   \n",
      "119386                        2                     5       3       0.0  ...   \n",
      "119387                        2                     5       2       0.0  ...   \n",
      "119388                        2                     5       2       0.0  ...   \n",
      "119389                        2                     7       2       0.0  ...   \n",
      "\n",
      "        deposit_type_No Deposit deposit_type_Non Refund  \\\n",
      "0                             1                       0   \n",
      "1                             1                       0   \n",
      "2                             1                       0   \n",
      "3                             1                       0   \n",
      "4                             1                       0   \n",
      "...                         ...                     ...   \n",
      "119385                        1                       0   \n",
      "119386                        1                       0   \n",
      "119387                        1                       0   \n",
      "119388                        1                       0   \n",
      "119389                        1                       0   \n",
      "\n",
      "       deposit_type_Refundable customer_type_Contract customer_type_Group  \\\n",
      "0                            0                      0                   0   \n",
      "1                            0                      0                   0   \n",
      "2                            0                      0                   0   \n",
      "3                            0                      0                   0   \n",
      "4                            0                      0                   0   \n",
      "...                        ...                    ...                 ...   \n",
      "119385                       0                      0                   0   \n",
      "119386                       0                      0                   0   \n",
      "119387                       0                      0                   0   \n",
      "119388                       0                      0                   0   \n",
      "119389                       0                      0                   0   \n",
      "\n",
      "        customer_type_Transient  customer_type_Transient-Party  \\\n",
      "0                             1                              0   \n",
      "1                             1                              0   \n",
      "2                             1                              0   \n",
      "3                             1                              0   \n",
      "4                             1                              0   \n",
      "...                         ...                            ...   \n",
      "119385                        1                              0   \n",
      "119386                        1                              0   \n",
      "119387                        1                              0   \n",
      "119388                        1                              0   \n",
      "119389                        1                              0   \n",
      "\n",
      "        reservation_status_Canceled reservation_status_Check-Out  \\\n",
      "0                                 0                            1   \n",
      "1                                 0                            1   \n",
      "2                                 0                            1   \n",
      "3                                 0                            1   \n",
      "4                                 0                            1   \n",
      "...                             ...                          ...   \n",
      "119385                            0                            1   \n",
      "119386                            0                            1   \n",
      "119387                            0                            1   \n",
      "119388                            0                            1   \n",
      "119389                            0                            1   \n",
      "\n",
      "       reservation_status_No-Show  \n",
      "0                               0  \n",
      "1                               0  \n",
      "2                               0  \n",
      "3                               0  \n",
      "4                               0  \n",
      "...                           ...  \n",
      "119385                          0  \n",
      "119386                          0  \n",
      "119387                          0  \n",
      "119388                          0  \n",
      "119389                          0  \n",
      "\n",
      "[87370 rows x 39 columns]>\n"
     ]
    }
   ],
   "source": [
    "# One-Hot Encoding for nominal categorical variables\n",
    "df = pd.get_dummies(df, columns=['hotel', 'deposit_type', 'customer_type', 'reservation_status'])\n",
    "df[df.select_dtypes('bool').columns] = df.select_dtypes('bool').astype(int)\n",
    "print(df.head)\n"
   ]
  },
  {
   "cell_type": "code",
   "execution_count": 11,
   "id": "8f77885e",
   "metadata": {
    "execution": {
     "iopub.execute_input": "2025-02-15T13:36:28.712188Z",
     "iopub.status.busy": "2025-02-15T13:36:28.711837Z",
     "iopub.status.idle": "2025-02-15T13:36:28.717315Z",
     "shell.execute_reply": "2025-02-15T13:36:28.716223Z"
    },
    "papermill": {
     "duration": 0.012627,
     "end_time": "2025-02-15T13:36:28.718852",
     "exception": false,
     "start_time": "2025-02-15T13:36:28.706225",
     "status": "completed"
    },
    "tags": []
   },
   "outputs": [
    {
     "name": "stdout",
     "output_type": "stream",
     "text": [
      "['lead_time', 'arrival_date_week_number', 'arrival_date_day_of_month', 'stays_in_weekend_nights', 'stays_in_week_nights', 'adults', 'children', 'babies', 'previous_cancellations', 'previous_bookings_not_canceled', 'booking_changes', 'agent', 'days_in_waiting_list', 'adr', 'required_car_parking_spaces', 'total_of_special_requests']\n"
     ]
    }
   ],
   "source": [
    "# Define the list of numerical features manually, excluding binary categorical features\n",
    "numerical_features = [\n",
    "    'lead_time', 'arrival_date_week_number', 'arrival_date_day_of_month',\n",
    "    'stays_in_weekend_nights', 'stays_in_week_nights', 'adults', 'children',\n",
    "    'babies', 'previous_cancellations', 'previous_bookings_not_canceled',\n",
    "    'booking_changes', 'agent', 'days_in_waiting_list', 'adr',\n",
    "    'required_car_parking_spaces', 'total_of_special_requests'\n",
    "]\n",
    "\n",
    "print(numerical_features)  # Verify selected features\n"
   ]
  },
  {
   "cell_type": "code",
   "execution_count": 12,
   "id": "92f852a0",
   "metadata": {
    "execution": {
     "iopub.execute_input": "2025-02-15T13:36:28.729559Z",
     "iopub.status.busy": "2025-02-15T13:36:28.729209Z",
     "iopub.status.idle": "2025-02-15T13:36:29.996249Z",
     "shell.execute_reply": "2025-02-15T13:36:29.995012Z"
    },
    "papermill": {
     "duration": 1.274572,
     "end_time": "2025-02-15T13:36:29.998308",
     "exception": false,
     "start_time": "2025-02-15T13:36:28.723736",
     "status": "completed"
    },
    "tags": []
   },
   "outputs": [],
   "source": [
    "from sklearn.preprocessing import StandardScaler\n",
    "scaler = StandardScaler()\n",
    "df[numerical_features] = scaler.fit_transform(df[numerical_features])"
   ]
  },
  {
   "cell_type": "code",
   "execution_count": 13,
   "id": "b054a049",
   "metadata": {
    "execution": {
     "iopub.execute_input": "2025-02-15T13:36:30.009704Z",
     "iopub.status.busy": "2025-02-15T13:36:30.009180Z",
     "iopub.status.idle": "2025-02-15T13:36:30.038466Z",
     "shell.execute_reply": "2025-02-15T13:36:30.036994Z"
    },
    "papermill": {
     "duration": 0.037189,
     "end_time": "2025-02-15T13:36:30.040557",
     "exception": false,
     "start_time": "2025-02-15T13:36:30.003368",
     "status": "completed"
    },
    "tags": []
   },
   "outputs": [
    {
     "name": "stdout",
     "output_type": "stream",
     "text": [
      "<bound method NDFrame.head of         is_canceled  lead_time  arrival_date_year  arrival_date_month  \\\n",
      "0                 0   3.045556               2015                   7   \n",
      "1                 0   7.635592               2015                   7   \n",
      "2                 0  -0.847259               2015                   7   \n",
      "3                 0  -0.777537               2015                   7   \n",
      "4                 0  -0.765916               2015                   7   \n",
      "...             ...        ...                ...                 ...   \n",
      "119385            0  -0.661333               2017                   8   \n",
      "119386            0   0.256674               2017                   8   \n",
      "119387            0  -0.533510               2017                   8   \n",
      "119388            0   0.338016               2017                   8   \n",
      "119389            0   1.453569               2017                   8   \n",
      "\n",
      "        arrival_date_week_number  arrival_date_day_of_month  \\\n",
      "0                       0.011736                  -1.676934   \n",
      "1                       0.011736                  -1.676934   \n",
      "2                       0.011736                  -1.676934   \n",
      "3                       0.011736                  -1.676934   \n",
      "4                       0.011736                  -1.676934   \n",
      "...                          ...                        ...   \n",
      "119385                  0.596825                   1.605543   \n",
      "119386                  0.596825                   1.718732   \n",
      "119387                  0.596825                   1.718732   \n",
      "119388                  0.596825                   1.718732   \n",
      "119389                  0.596825                   1.492354   \n",
      "\n",
      "        stays_in_weekend_nights  stays_in_week_nights    adults  children  \\\n",
      "0                     -0.974301             -1.278582  0.198010 -0.304168   \n",
      "1                     -0.974301             -1.278582  0.198010 -0.304168   \n",
      "2                     -0.974301             -0.791651 -1.398237 -0.304168   \n",
      "3                     -0.974301             -0.791651 -1.398237 -0.304168   \n",
      "4                     -0.974301             -0.304720  0.198010 -0.304168   \n",
      "...                         ...                   ...       ...       ...   \n",
      "119385                 0.963743              1.156072  0.198010 -0.304168   \n",
      "119386                 0.963743              1.156072  1.794257 -0.304168   \n",
      "119387                 0.963743              1.156072  0.198010 -0.304168   \n",
      "119388                 0.963743              1.156072  0.198010 -0.304168   \n",
      "119389                 0.963743              2.129933  0.198010 -0.304168   \n",
      "\n",
      "        ...  deposit_type_No Deposit deposit_type_Non Refund  \\\n",
      "0       ...                        1                       0   \n",
      "1       ...                        1                       0   \n",
      "2       ...                        1                       0   \n",
      "3       ...                        1                       0   \n",
      "4       ...                        1                       0   \n",
      "...     ...                      ...                     ...   \n",
      "119385  ...                        1                       0   \n",
      "119386  ...                        1                       0   \n",
      "119387  ...                        1                       0   \n",
      "119388  ...                        1                       0   \n",
      "119389  ...                        1                       0   \n",
      "\n",
      "       deposit_type_Refundable customer_type_Contract customer_type_Group  \\\n",
      "0                            0                      0                   0   \n",
      "1                            0                      0                   0   \n",
      "2                            0                      0                   0   \n",
      "3                            0                      0                   0   \n",
      "4                            0                      0                   0   \n",
      "...                        ...                    ...                 ...   \n",
      "119385                       0                      0                   0   \n",
      "119386                       0                      0                   0   \n",
      "119387                       0                      0                   0   \n",
      "119388                       0                      0                   0   \n",
      "119389                       0                      0                   0   \n",
      "\n",
      "        customer_type_Transient  customer_type_Transient-Party  \\\n",
      "0                             1                              0   \n",
      "1                             1                              0   \n",
      "2                             1                              0   \n",
      "3                             1                              0   \n",
      "4                             1                              0   \n",
      "...                         ...                            ...   \n",
      "119385                        1                              0   \n",
      "119386                        1                              0   \n",
      "119387                        1                              0   \n",
      "119388                        1                              0   \n",
      "119389                        1                              0   \n",
      "\n",
      "        reservation_status_Canceled reservation_status_Check-Out  \\\n",
      "0                                 0                            1   \n",
      "1                                 0                            1   \n",
      "2                                 0                            1   \n",
      "3                                 0                            1   \n",
      "4                                 0                            1   \n",
      "...                             ...                          ...   \n",
      "119385                            0                            1   \n",
      "119386                            0                            1   \n",
      "119387                            0                            1   \n",
      "119388                            0                            1   \n",
      "119389                            0                            1   \n",
      "\n",
      "       reservation_status_No-Show  \n",
      "0                               0  \n",
      "1                               0  \n",
      "2                               0  \n",
      "3                               0  \n",
      "4                               0  \n",
      "...                           ...  \n",
      "119385                          0  \n",
      "119386                          0  \n",
      "119387                          0  \n",
      "119388                          0  \n",
      "119389                          0  \n",
      "\n",
      "[87370 rows x 39 columns]>\n"
     ]
    }
   ],
   "source": [
    "print(df.head)"
   ]
  },
  {
   "cell_type": "code",
   "execution_count": 14,
   "id": "67c8d62a",
   "metadata": {
    "execution": {
     "iopub.execute_input": "2025-02-15T13:36:30.052048Z",
     "iopub.status.busy": "2025-02-15T13:36:30.051682Z",
     "iopub.status.idle": "2025-02-15T13:36:30.251103Z",
     "shell.execute_reply": "2025-02-15T13:36:30.250115Z"
    },
    "papermill": {
     "duration": 0.207193,
     "end_time": "2025-02-15T13:36:30.253025",
     "exception": false,
     "start_time": "2025-02-15T13:36:30.045832",
     "status": "completed"
    },
    "tags": []
   },
   "outputs": [],
   "source": [
    "from sklearn.model_selection import train_test_split\n",
    "X = df.drop(columns = ['is_canceled'])\n",
    "y = df['is_canceled']\n",
    "X_train,X_test,y_train,y_test = train_test_split(X,y,test_size = 0.2, random_state=42,stratify=y)"
   ]
  },
  {
   "cell_type": "code",
   "execution_count": 15,
   "id": "06e31b40",
   "metadata": {
    "execution": {
     "iopub.execute_input": "2025-02-15T13:36:30.264400Z",
     "iopub.status.busy": "2025-02-15T13:36:30.264015Z",
     "iopub.status.idle": "2025-02-15T13:36:30.270120Z",
     "shell.execute_reply": "2025-02-15T13:36:30.268976Z"
    },
    "papermill": {
     "duration": 0.013699,
     "end_time": "2025-02-15T13:36:30.271811",
     "exception": false,
     "start_time": "2025-02-15T13:36:30.258112",
     "status": "completed"
    },
    "tags": []
   },
   "outputs": [
    {
     "name": "stdout",
     "output_type": "stream",
     "text": [
      "Training Set: (69896, 38) (69896,)\n",
      "Testing Set: (17474, 38) (17474,)\n"
     ]
    }
   ],
   "source": [
    "print(\"Training Set:\", X_train.shape, y_train.shape)\n",
    "print(\"Testing Set:\", X_test.shape, y_test.shape)\n"
   ]
  }
 ],
 "metadata": {
  "kaggle": {
   "accelerator": "none",
   "dataSources": [
    {
     "datasetId": 511638,
     "sourceId": 944030,
     "sourceType": "datasetVersion"
    }
   ],
   "dockerImageVersionId": 30886,
   "isGpuEnabled": false,
   "isInternetEnabled": true,
   "language": "python",
   "sourceType": "notebook"
  },
  "kernelspec": {
   "display_name": "Python 3",
   "language": "python",
   "name": "python3"
  },
  "language_info": {
   "codemirror_mode": {
    "name": "ipython",
    "version": 3
   },
   "file_extension": ".py",
   "mimetype": "text/x-python",
   "name": "python",
   "nbconvert_exporter": "python",
   "pygments_lexer": "ipython3",
   "version": "3.10.12"
  },
  "papermill": {
   "default_parameters": {},
   "duration": 7.798489,
   "end_time": "2025-02-15T13:36:30.998093",
   "environment_variables": {},
   "exception": null,
   "input_path": "__notebook__.ipynb",
   "output_path": "__notebook__.ipynb",
   "parameters": {},
   "start_time": "2025-02-15T13:36:23.199604",
   "version": "2.6.0"
  }
 },
 "nbformat": 4,
 "nbformat_minor": 5
}
