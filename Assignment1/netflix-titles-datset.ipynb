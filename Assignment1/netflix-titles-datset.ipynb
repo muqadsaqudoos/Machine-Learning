{
 "cells": [
  {
   "cell_type": "code",
   "execution_count": 1,
   "id": "7b2fdcc6",
   "metadata": {
    "_cell_guid": "b1076dfc-b9ad-4769-8c92-a6c4dae69d19",
    "_uuid": "8f2839f25d086af736a60e9eeb907d3b93b6e0e5",
    "execution": {
     "iopub.execute_input": "2025-02-15T14:45:57.906222Z",
     "iopub.status.busy": "2025-02-15T14:45:57.905751Z",
     "iopub.status.idle": "2025-02-15T14:45:59.068436Z",
     "shell.execute_reply": "2025-02-15T14:45:59.067073Z"
    },
    "papermill": {
     "duration": 1.169625,
     "end_time": "2025-02-15T14:45:59.070234",
     "exception": false,
     "start_time": "2025-02-15T14:45:57.900609",
     "status": "completed"
    },
    "tags": []
   },
   "outputs": [
    {
     "name": "stdout",
     "output_type": "stream",
     "text": [
      "/kaggle/input/netflix-movies-and-tv-shows/netflix_titles.csv\n"
     ]
    }
   ],
   "source": [
    "# This Python 3 environment comes with many helpful analytics libraries installed\n",
    "# It is defined by the kaggle/python Docker image: https://github.com/kaggle/docker-python\n",
    "# For example, here's several helpful packages to load\n",
    "\n",
    "import numpy as np # linear algebra\n",
    "import pandas as pd # data processing, CSV file I/O (e.g. pd.read_csv)\n",
    "\n",
    "# Input data files are available in the read-only \"../input/\" directory\n",
    "# For example, running this (by clicking run or pressing Shift+Enter) will list all files under the input directory\n",
    "\n",
    "import os\n",
    "for dirname, _, filenames in os.walk('/kaggle/input'):\n",
    "    for filename in filenames:\n",
    "        print(os.path.join(dirname, filename))\n",
    "\n",
    "# You can write up to 20GB to the current directory (/kaggle/working/) that gets preserved as output when you create a version using \"Save & Run All\" \n",
    "# You can also write temporary files to /kaggle/temp/, but they won't be saved outside of the current session"
   ]
  },
  {
   "cell_type": "code",
   "execution_count": 2,
   "id": "9cb72cf6",
   "metadata": {
    "execution": {
     "iopub.execute_input": "2025-02-15T14:45:59.078208Z",
     "iopub.status.busy": "2025-02-15T14:45:59.077523Z",
     "iopub.status.idle": "2025-02-15T14:45:59.282835Z",
     "shell.execute_reply": "2025-02-15T14:45:59.281295Z"
    },
    "papermill": {
     "duration": 0.211761,
     "end_time": "2025-02-15T14:45:59.285187",
     "exception": false,
     "start_time": "2025-02-15T14:45:59.073426",
     "status": "completed"
    },
    "tags": []
   },
   "outputs": [
    {
     "name": "stdout",
     "output_type": "stream",
     "text": [
      "<bound method NDFrame.head of      show_id     type                  title         director  \\\n",
      "0         s1    Movie   Dick Johnson Is Dead  Kirsten Johnson   \n",
      "1         s2  TV Show          Blood & Water              NaN   \n",
      "2         s3  TV Show              Ganglands  Julien Leclercq   \n",
      "3         s4  TV Show  Jailbirds New Orleans              NaN   \n",
      "4         s5  TV Show           Kota Factory              NaN   \n",
      "...      ...      ...                    ...              ...   \n",
      "8802   s8803    Movie                 Zodiac    David Fincher   \n",
      "8803   s8804  TV Show            Zombie Dumb              NaN   \n",
      "8804   s8805    Movie             Zombieland  Ruben Fleischer   \n",
      "8805   s8806    Movie                   Zoom     Peter Hewitt   \n",
      "8806   s8807    Movie                 Zubaan      Mozez Singh   \n",
      "\n",
      "                                                   cast        country  \\\n",
      "0                                                   NaN  United States   \n",
      "1     Ama Qamata, Khosi Ngema, Gail Mabalane, Thaban...   South Africa   \n",
      "2     Sami Bouajila, Tracy Gotoas, Samuel Jouy, Nabi...            NaN   \n",
      "3                                                   NaN            NaN   \n",
      "4     Mayur More, Jitendra Kumar, Ranjan Raj, Alam K...          India   \n",
      "...                                                 ...            ...   \n",
      "8802  Mark Ruffalo, Jake Gyllenhaal, Robert Downey J...  United States   \n",
      "8803                                                NaN            NaN   \n",
      "8804  Jesse Eisenberg, Woody Harrelson, Emma Stone, ...  United States   \n",
      "8805  Tim Allen, Courteney Cox, Chevy Chase, Kate Ma...  United States   \n",
      "8806  Vicky Kaushal, Sarah-Jane Dias, Raaghav Chanan...          India   \n",
      "\n",
      "              date_added  release_year rating   duration  \\\n",
      "0     September 25, 2021          2020  PG-13     90 min   \n",
      "1     September 24, 2021          2021  TV-MA  2 Seasons   \n",
      "2     September 24, 2021          2021  TV-MA   1 Season   \n",
      "3     September 24, 2021          2021  TV-MA   1 Season   \n",
      "4     September 24, 2021          2021  TV-MA  2 Seasons   \n",
      "...                  ...           ...    ...        ...   \n",
      "8802   November 20, 2019          2007      R    158 min   \n",
      "8803        July 1, 2019          2018  TV-Y7  2 Seasons   \n",
      "8804    November 1, 2019          2009      R     88 min   \n",
      "8805    January 11, 2020          2006     PG     88 min   \n",
      "8806       March 2, 2019          2015  TV-14    111 min   \n",
      "\n",
      "                                              listed_in  \\\n",
      "0                                         Documentaries   \n",
      "1       International TV Shows, TV Dramas, TV Mysteries   \n",
      "2     Crime TV Shows, International TV Shows, TV Act...   \n",
      "3                                Docuseries, Reality TV   \n",
      "4     International TV Shows, Romantic TV Shows, TV ...   \n",
      "...                                                 ...   \n",
      "8802                     Cult Movies, Dramas, Thrillers   \n",
      "8803             Kids' TV, Korean TV Shows, TV Comedies   \n",
      "8804                            Comedies, Horror Movies   \n",
      "8805                 Children & Family Movies, Comedies   \n",
      "8806     Dramas, International Movies, Music & Musicals   \n",
      "\n",
      "                                            description  \n",
      "0     As her father nears the end of his life, filmm...  \n",
      "1     After crossing paths at a party, a Cape Town t...  \n",
      "2     To protect his family from a powerful drug lor...  \n",
      "3     Feuds, flirtations and toilet talk go down amo...  \n",
      "4     In a city of coaching centers known to train I...  \n",
      "...                                                 ...  \n",
      "8802  A political cartoonist, a crime reporter and a...  \n",
      "8803  While living alone in a spooky town, a young g...  \n",
      "8804  Looking to survive in a world taken over by zo...  \n",
      "8805  Dragged from civilian life, a former superhero...  \n",
      "8806  A scrappy but poor boy worms his way into a ty...  \n",
      "\n",
      "[8807 rows x 12 columns]>\n",
      "show_id            0\n",
      "type               0\n",
      "title              0\n",
      "director        2634\n",
      "cast             825\n",
      "country          831\n",
      "date_added        10\n",
      "release_year       0\n",
      "rating             4\n",
      "duration           3\n",
      "listed_in          0\n",
      "description        0\n",
      "dtype: int64\n",
      "8807\n"
     ]
    }
   ],
   "source": [
    "df = pd.read_csv('/kaggle/input/netflix-movies-and-tv-shows/netflix_titles.csv')\n",
    "print(df.head)\n",
    "print(df.isnull().sum())\n",
    "print(len(df))"
   ]
  },
  {
   "cell_type": "code",
   "execution_count": 3,
   "id": "2b5d4bcb",
   "metadata": {
    "execution": {
     "iopub.execute_input": "2025-02-15T14:45:59.294244Z",
     "iopub.status.busy": "2025-02-15T14:45:59.293766Z",
     "iopub.status.idle": "2025-02-15T14:45:59.335139Z",
     "shell.execute_reply": "2025-02-15T14:45:59.333826Z"
    },
    "papermill": {
     "duration": 0.048489,
     "end_time": "2025-02-15T14:45:59.337602",
     "exception": false,
     "start_time": "2025-02-15T14:45:59.289113",
     "status": "completed"
    },
    "tags": []
   },
   "outputs": [
    {
     "name": "stdout",
     "output_type": "stream",
     "text": [
      "show_id         0\n",
      "type            0\n",
      "title           0\n",
      "director        0\n",
      "cast            0\n",
      "country         0\n",
      "date_added      0\n",
      "release_year    0\n",
      "rating          4\n",
      "duration        3\n",
      "listed_in       0\n",
      "description     0\n",
      "dtype: int64\n"
     ]
    },
    {
     "name": "stderr",
     "output_type": "stream",
     "text": [
      "<ipython-input-3-4a69b5e0d7b7>:1: FutureWarning: A value is trying to be set on a copy of a DataFrame or Series through chained assignment using an inplace method.\n",
      "The behavior will change in pandas 3.0. This inplace method will never work because the intermediate object on which we are setting values always behaves as a copy.\n",
      "\n",
      "For example, when doing 'df[col].method(value, inplace=True)', try using 'df.method({col: value}, inplace=True)' or df[col] = df[col].method(value) instead, to perform the operation inplace on the original object.\n",
      "\n",
      "\n",
      "  df['director'].fillna('Unknown',inplace = True)\n",
      "<ipython-input-3-4a69b5e0d7b7>:2: FutureWarning: A value is trying to be set on a copy of a DataFrame or Series through chained assignment using an inplace method.\n",
      "The behavior will change in pandas 3.0. This inplace method will never work because the intermediate object on which we are setting values always behaves as a copy.\n",
      "\n",
      "For example, when doing 'df[col].method(value, inplace=True)', try using 'df.method({col: value}, inplace=True)' or df[col] = df[col].method(value) instead, to perform the operation inplace on the original object.\n",
      "\n",
      "\n",
      "  df['cast'].fillna('Unknown_Cast',inplace = True)\n",
      "<ipython-input-3-4a69b5e0d7b7>:3: FutureWarning: A value is trying to be set on a copy of a DataFrame or Series through chained assignment using an inplace method.\n",
      "The behavior will change in pandas 3.0. This inplace method will never work because the intermediate object on which we are setting values always behaves as a copy.\n",
      "\n",
      "For example, when doing 'df[col].method(value, inplace=True)', try using 'df.method({col: value}, inplace=True)' or df[col] = df[col].method(value) instead, to perform the operation inplace on the original object.\n",
      "\n",
      "\n",
      "  df['country'].fillna('Unknown_Country',inplace = True)\n",
      "<ipython-input-3-4a69b5e0d7b7>:10: FutureWarning: A value is trying to be set on a copy of a DataFrame or Series through chained assignment using an inplace method.\n",
      "The behavior will change in pandas 3.0. This inplace method will never work because the intermediate object on which we are setting values always behaves as a copy.\n",
      "\n",
      "For example, when doing 'df[col].method(value, inplace=True)', try using 'df.method({col: value}, inplace=True)' or df[col] = df[col].method(value) instead, to perform the operation inplace on the original object.\n",
      "\n",
      "\n",
      "  df['date_added'].fillna(median_date, inplace=True)\n"
     ]
    }
   ],
   "source": [
    "df['director'].fillna('Unknown',inplace = True)\n",
    "df['cast'].fillna('Unknown_Cast',inplace = True)\n",
    "df['country'].fillna('Unknown_Country',inplace = True)\n",
    "df['date_added'] = pd.to_datetime(df['date_added'], errors='coerce')\n",
    "\n",
    "# Calculate the median date\n",
    "median_date = df['date_added'].median()\n",
    "\n",
    "# Fill missing values with the median date\n",
    "df['date_added'].fillna(median_date, inplace=True)\n",
    "print(df.isnull().sum())"
   ]
  },
  {
   "cell_type": "code",
   "execution_count": 4,
   "id": "ff00b907",
   "metadata": {
    "execution": {
     "iopub.execute_input": "2025-02-15T14:45:59.347915Z",
     "iopub.status.busy": "2025-02-15T14:45:59.347400Z",
     "iopub.status.idle": "2025-02-15T14:45:59.364027Z",
     "shell.execute_reply": "2025-02-15T14:45:59.362623Z"
    },
    "papermill": {
     "duration": 0.023942,
     "end_time": "2025-02-15T14:45:59.365857",
     "exception": false,
     "start_time": "2025-02-15T14:45:59.341915",
     "status": "completed"
    },
    "tags": []
   },
   "outputs": [
    {
     "name": "stdout",
     "output_type": "stream",
     "text": [
      "rating\n",
      "TV-MA       3207\n",
      "TV-14       2160\n",
      "TV-PG        863\n",
      "R            799\n",
      "PG-13        490\n",
      "TV-Y7        334\n",
      "TV-Y         307\n",
      "PG           287\n",
      "TV-G         220\n",
      "NR            80\n",
      "G             41\n",
      "TV-Y7-FV       6\n",
      "NC-17          3\n",
      "UR             3\n",
      "74 min         1\n",
      "84 min         1\n",
      "66 min         1\n",
      "Name: count, dtype: int64\n",
      "duration\n",
      "1 Season     1793\n",
      "2 Seasons     425\n",
      "3 Seasons     199\n",
      "90 min        152\n",
      "94 min        146\n",
      "             ... \n",
      "16 min          1\n",
      "186 min         1\n",
      "193 min         1\n",
      "189 min         1\n",
      "191 min         1\n",
      "Name: count, Length: 220, dtype: int64\n"
     ]
    }
   ],
   "source": [
    "print(df['rating'].value_counts()) \n",
    "print(df['duration'].value_counts()) "
   ]
  },
  {
   "cell_type": "code",
   "execution_count": 5,
   "id": "1e125dfd",
   "metadata": {
    "execution": {
     "iopub.execute_input": "2025-02-15T14:45:59.375611Z",
     "iopub.status.busy": "2025-02-15T14:45:59.375204Z",
     "iopub.status.idle": "2025-02-15T14:45:59.395230Z",
     "shell.execute_reply": "2025-02-15T14:45:59.393462Z"
    },
    "papermill": {
     "duration": 0.027325,
     "end_time": "2025-02-15T14:45:59.397542",
     "exception": false,
     "start_time": "2025-02-15T14:45:59.370217",
     "status": "completed"
    },
    "tags": []
   },
   "outputs": [
    {
     "name": "stdout",
     "output_type": "stream",
     "text": [
      "show_id         0\n",
      "type            0\n",
      "title           0\n",
      "director        0\n",
      "cast            0\n",
      "country         0\n",
      "date_added      0\n",
      "release_year    0\n",
      "rating          0\n",
      "duration        0\n",
      "listed_in       0\n",
      "description     0\n",
      "dtype: int64\n"
     ]
    },
    {
     "name": "stderr",
     "output_type": "stream",
     "text": [
      "<ipython-input-5-a50cf7b0f0de>:1: FutureWarning: A value is trying to be set on a copy of a DataFrame or Series through chained assignment using an inplace method.\n",
      "The behavior will change in pandas 3.0. This inplace method will never work because the intermediate object on which we are setting values always behaves as a copy.\n",
      "\n",
      "For example, when doing 'df[col].method(value, inplace=True)', try using 'df.method({col: value}, inplace=True)' or df[col] = df[col].method(value) instead, to perform the operation inplace on the original object.\n",
      "\n",
      "\n",
      "  df[\"rating\"].fillna(df[\"rating\"].mode()[0], inplace=True)\n",
      "<ipython-input-5-a50cf7b0f0de>:2: FutureWarning: A value is trying to be set on a copy of a DataFrame or Series through chained assignment using an inplace method.\n",
      "The behavior will change in pandas 3.0. This inplace method will never work because the intermediate object on which we are setting values always behaves as a copy.\n",
      "\n",
      "For example, when doing 'df[col].method(value, inplace=True)', try using 'df.method({col: value}, inplace=True)' or df[col] = df[col].method(value) instead, to perform the operation inplace on the original object.\n",
      "\n",
      "\n",
      "  df[\"duration\"].fillna(df[\"duration\"].mode()[0], inplace=True)\n"
     ]
    }
   ],
   "source": [
    "\n",
    "df[\"rating\"].fillna(df[\"rating\"].mode()[0], inplace=True)\n",
    "df[\"duration\"].fillna(df[\"duration\"].mode()[0], inplace=True)\n",
    "print(df.isnull().sum())\n"
   ]
  },
  {
   "cell_type": "code",
   "execution_count": 6,
   "id": "04480da3",
   "metadata": {
    "execution": {
     "iopub.execute_input": "2025-02-15T14:45:59.407454Z",
     "iopub.status.busy": "2025-02-15T14:45:59.407004Z",
     "iopub.status.idle": "2025-02-15T14:45:59.417605Z",
     "shell.execute_reply": "2025-02-15T14:45:59.416133Z"
    },
    "papermill": {
     "duration": 0.018551,
     "end_time": "2025-02-15T14:45:59.419985",
     "exception": false,
     "start_time": "2025-02-15T14:45:59.401434",
     "status": "completed"
    },
    "tags": []
   },
   "outputs": [
    {
     "name": "stdout",
     "output_type": "stream",
     "text": [
      "  show_id     type                  title         director  \\\n",
      "0      s1    Movie   Dick Johnson Is Dead  Kirsten Johnson   \n",
      "1      s2  TV Show          Blood & Water          Unknown   \n",
      "2      s3  TV Show              Ganglands  Julien Leclercq   \n",
      "3      s4  TV Show  Jailbirds New Orleans          Unknown   \n",
      "4      s5  TV Show           Kota Factory          Unknown   \n",
      "\n",
      "                                                cast          country  \\\n",
      "0                                       Unknown_Cast    United States   \n",
      "1  Ama Qamata, Khosi Ngema, Gail Mabalane, Thaban...     South Africa   \n",
      "2  Sami Bouajila, Tracy Gotoas, Samuel Jouy, Nabi...  Unknown_Country   \n",
      "3                                       Unknown_Cast  Unknown_Country   \n",
      "4  Mayur More, Jitendra Kumar, Ranjan Raj, Alam K...            India   \n",
      "\n",
      "  date_added  release_year rating   duration  \\\n",
      "0 2021-09-25          2020  PG-13     90 min   \n",
      "1 2021-09-24          2021  TV-MA  2 Seasons   \n",
      "2 2021-09-24          2021  TV-MA   1 Season   \n",
      "3 2021-09-24          2021  TV-MA   1 Season   \n",
      "4 2021-09-24          2021  TV-MA  2 Seasons   \n",
      "\n",
      "                                           listed_in  \\\n",
      "0                                      Documentaries   \n",
      "1    International TV Shows, TV Dramas, TV Mysteries   \n",
      "2  Crime TV Shows, International TV Shows, TV Act...   \n",
      "3                             Docuseries, Reality TV   \n",
      "4  International TV Shows, Romantic TV Shows, TV ...   \n",
      "\n",
      "                                         description  \n",
      "0  As her father nears the end of his life, filmm...  \n",
      "1  After crossing paths at a party, a Cape Town t...  \n",
      "2  To protect his family from a powerful drug lor...  \n",
      "3  Feuds, flirtations and toilet talk go down amo...  \n",
      "4  In a city of coaching centers known to train I...  \n"
     ]
    }
   ],
   "source": [
    "print(df.head())"
   ]
  },
  {
   "cell_type": "code",
   "execution_count": 7,
   "id": "b2901e64",
   "metadata": {
    "execution": {
     "iopub.execute_input": "2025-02-15T14:45:59.430371Z",
     "iopub.status.busy": "2025-02-15T14:45:59.429866Z",
     "iopub.status.idle": "2025-02-15T14:46:01.401007Z",
     "shell.execute_reply": "2025-02-15T14:46:01.399680Z"
    },
    "papermill": {
     "duration": 1.979112,
     "end_time": "2025-02-15T14:46:01.403759",
     "exception": false,
     "start_time": "2025-02-15T14:45:59.424647",
     "status": "completed"
    },
    "tags": []
   },
   "outputs": [
    {
     "name": "stdout",
     "output_type": "stream",
     "text": [
      "  show_id                  title  director  \\\n",
      "0      s1   Dick Johnson Is Dead         1   \n",
      "1      s2          Blood & Water      2634   \n",
      "2      s3              Ganglands         3   \n",
      "3      s4  Jailbirds New Orleans      2634   \n",
      "4      s5           Kota Factory      2634   \n",
      "\n",
      "                                                cast date_added  release_year  \\\n",
      "0                                       Unknown_Cast 2021-09-25          2020   \n",
      "1  Ama Qamata, Khosi Ngema, Gail Mabalane, Thaban... 2021-09-24          2021   \n",
      "2  Sami Bouajila, Tracy Gotoas, Samuel Jouy, Nabi... 2021-09-24          2021   \n",
      "3                                       Unknown_Cast 2021-09-24          2021   \n",
      "4  Mayur More, Jitendra Kumar, Ranjan Raj, Alam K... 2021-09-24          2021   \n",
      "\n",
      "   duration  listed_in                                        description  \\\n",
      "0      90.0        274  As her father nears the end of his life, filmm...   \n",
      "1       2.0        414  After crossing paths at a party, a Cape Town t...   \n",
      "2       1.0        242  To protect his family from a powerful drug lor...   \n",
      "3       1.0        297  Feuds, flirtations and toilet talk go down amo...   \n",
      "4       2.0        393  In a city of coaching centers known to train I...   \n",
      "\n",
      "   type_Movie  ...  rating_PG-13  rating_R  rating_TV-14  rating_TV-G  \\\n",
      "0           1  ...             1         0             0            0   \n",
      "1           0  ...             0         0             0            0   \n",
      "2           0  ...             0         0             0            0   \n",
      "3           0  ...             0         0             0            0   \n",
      "4           0  ...             0         0             0            0   \n",
      "\n",
      "   rating_TV-MA  rating_TV-PG  rating_TV-Y  rating_TV-Y7  rating_TV-Y7-FV  \\\n",
      "0             0             0            0             0                0   \n",
      "1             1             0            0             0                0   \n",
      "2             1             0            0             0                0   \n",
      "3             1             0            0             0                0   \n",
      "4             1             0            0             0                0   \n",
      "\n",
      "   rating_UR  \n",
      "0          0  \n",
      "1          0  \n",
      "2          0  \n",
      "3          0  \n",
      "4          0  \n",
      "\n",
      "[5 rows x 777 columns]\n"
     ]
    }
   ],
   "source": [
    "from sklearn.preprocessing import LabelEncoder\n",
    "\n",
    "\n",
    "\n",
    "# Convert 'date_added' to datetime\n",
    "df[\"date_added\"] = pd.to_datetime(df[\"date_added\"])\n",
    "\n",
    "# Extract numeric values from 'duration' column\n",
    "df[\"duration\"] = df[\"duration\"].astype(str).str.extract(r\"(\\d+)\").iloc[:, 0].astype(float)\n",
    "\n",
    "# One-Hot Encoding for 'type', 'country', and 'rating'\n",
    "df = pd.get_dummies(df, columns=[\"type\", \"country\", \"rating\"])\n",
    "df[df.select_dtypes('bool').columns] = df.select_dtypes('bool').astype(int)\n",
    "# Frequency Encoding for 'director'\n",
    "freq_map = df[\"director\"].value_counts().to_dict()\n",
    "df[\"director\"] = df[\"director\"].map(freq_map).fillna(0).astype(int)\n",
    "\n",
    "# Label Encoding for 'listed_in'\n",
    "df[\"listed_in\"] = LabelEncoder().fit_transform(df[\"listed_in\"])\n",
    "\n",
    "# Show updated DataFrame\n",
    "print(df.head())\n"
   ]
  },
  {
   "cell_type": "code",
   "execution_count": 8,
   "id": "cc5575c5",
   "metadata": {
    "execution": {
     "iopub.execute_input": "2025-02-15T14:46:01.414340Z",
     "iopub.status.busy": "2025-02-15T14:46:01.413660Z",
     "iopub.status.idle": "2025-02-15T14:46:01.458323Z",
     "shell.execute_reply": "2025-02-15T14:46:01.457011Z"
    },
    "papermill": {
     "duration": 0.052578,
     "end_time": "2025-02-15T14:46:01.460813",
     "exception": false,
     "start_time": "2025-02-15T14:46:01.408235",
     "status": "completed"
    },
    "tags": []
   },
   "outputs": [
    {
     "name": "stdout",
     "output_type": "stream",
     "text": [
      "  show_id                  title  director  \\\n",
      "0      s1   Dick Johnson Is Dead -0.654236   \n",
      "1      s2          Blood & Water  1.530874   \n",
      "2      s3              Ganglands -0.652576   \n",
      "3      s4  Jailbirds New Orleans  1.530874   \n",
      "4      s5           Kota Factory  1.530874   \n",
      "\n",
      "                                                cast date_added  release_year  \\\n",
      "0                                       Unknown_Cast 2021-09-25      0.659930   \n",
      "1  Ama Qamata, Khosi Ngema, Gail Mabalane, Thaban... 2021-09-24      0.773324   \n",
      "2  Sami Bouajila, Tracy Gotoas, Samuel Jouy, Nabi... 2021-09-24      0.773324   \n",
      "3                                       Unknown_Cast 2021-09-24      0.773324   \n",
      "4  Mayur More, Jitendra Kumar, Ranjan Raj, Alam K... 2021-09-24      0.773324   \n",
      "\n",
      "   duration  listed_in                                        description  \\\n",
      "0  0.286174   0.534113  As her father nears the end of his life, filmm...   \n",
      "1  0.003215   0.807018  After crossing paths at a party, a Cape Town t...   \n",
      "2  0.000000   0.471735  To protect his family from a powerful drug lor...   \n",
      "3  0.000000   0.578947  Feuds, flirtations and toilet talk go down amo...   \n",
      "4  0.003215   0.766082  In a city of coaching centers known to train I...   \n",
      "\n",
      "   type_Movie  ...  rating_PG-13  rating_R  rating_TV-14  rating_TV-G  \\\n",
      "0           1  ...             1         0             0            0   \n",
      "1           0  ...             0         0             0            0   \n",
      "2           0  ...             0         0             0            0   \n",
      "3           0  ...             0         0             0            0   \n",
      "4           0  ...             0         0             0            0   \n",
      "\n",
      "   rating_TV-MA  rating_TV-PG  rating_TV-Y  rating_TV-Y7  rating_TV-Y7-FV  \\\n",
      "0             0             0            0             0                0   \n",
      "1             1             0            0             0                0   \n",
      "2             1             0            0             0                0   \n",
      "3             1             0            0             0                0   \n",
      "4             1             0            0             0                0   \n",
      "\n",
      "   rating_UR  \n",
      "0          0  \n",
      "1          0  \n",
      "2          0  \n",
      "3          0  \n",
      "4          0  \n",
      "\n",
      "[5 rows x 777 columns]\n"
     ]
    }
   ],
   "source": [
    "from sklearn.preprocessing import StandardScaler, MinMaxScaler\n",
    "\n",
    "# Select numerical columns for scaling\n",
    "numerical_cols = [\"release_year\", \"duration\", \"director\", \"listed_in\"]\n",
    "\n",
    "# Apply Min-Max Scaling (Normalization) for `duration` and `listed_in`\n",
    "min_max_scaler = MinMaxScaler()\n",
    "df[[\"duration\", \"listed_in\"]] = min_max_scaler.fit_transform(df[[\"duration\", \"listed_in\"]])\n",
    "\n",
    "# Apply Standardization (Z-score scaling) for `release_year` and `director`\n",
    "standard_scaler = StandardScaler()\n",
    "df[[\"release_year\", \"director\"]] = standard_scaler.fit_transform(df[[\"release_year\", \"director\"]])\n",
    "\n",
    "# Show updated DataFrame\n",
    "print(df.head())\n"
   ]
  },
  {
   "cell_type": "code",
   "execution_count": 9,
   "id": "b91ffed9",
   "metadata": {
    "execution": {
     "iopub.execute_input": "2025-02-15T14:46:01.471437Z",
     "iopub.status.busy": "2025-02-15T14:46:01.470919Z",
     "iopub.status.idle": "2025-02-15T14:46:01.949391Z",
     "shell.execute_reply": "2025-02-15T14:46:01.947807Z"
    },
    "papermill": {
     "duration": 0.486347,
     "end_time": "2025-02-15T14:46:01.951862",
     "exception": false,
     "start_time": "2025-02-15T14:46:01.465515",
     "status": "completed"
    },
    "tags": []
   },
   "outputs": [
    {
     "name": "stdout",
     "output_type": "stream",
     "text": [
      "Training Set: (7045, 771), Testing Set: (1762, 771)\n"
     ]
    }
   ],
   "source": [
    "from sklearn.model_selection import train_test_split\n",
    "\n",
    "# Select relevant features (excluding non-useful columns)\n",
    "X = df.drop(columns=[\"show_id\", \"title\", \"description\", \"cast\", \"date_added\", \"type_Movie\"])  # Drop non-numeric features\n",
    "y = df[\"type_Movie\"]  # Target variable\n",
    "\n",
    "# Split dataset into train (80%) and test (20%)\n",
    "X_train, X_test, y_train, y_test = train_test_split(X, y, test_size=0.2, random_state=42, stratify=y)\n",
    "\n",
    "# Display split sizes\n",
    "print(f\"Training Set: {X_train.shape}, Testing Set: {X_test.shape}\")\n"
   ]
  }
 ],
 "metadata": {
  "kaggle": {
   "accelerator": "none",
   "dataSources": [
    {
     "datasetId": 6417893,
     "sourceId": 10362470,
     "sourceType": "datasetVersion"
    }
   ],
   "dockerImageVersionId": 30886,
   "isGpuEnabled": false,
   "isInternetEnabled": true,
   "language": "python",
   "sourceType": "notebook"
  },
  "kernelspec": {
   "display_name": "Python 3",
   "language": "python",
   "name": "python3"
  },
  "language_info": {
   "codemirror_mode": {
    "name": "ipython",
    "version": 3
   },
   "file_extension": ".py",
   "mimetype": "text/x-python",
   "name": "python",
   "nbconvert_exporter": "python",
   "pygments_lexer": "ipython3",
   "version": "3.10.12"
  },
  "papermill": {
   "default_parameters": {},
   "duration": 8.441512,
   "end_time": "2025-02-15T14:46:02.984032",
   "environment_variables": {},
   "exception": null,
   "input_path": "__notebook__.ipynb",
   "output_path": "__notebook__.ipynb",
   "parameters": {},
   "start_time": "2025-02-15T14:45:54.542520",
   "version": "2.6.0"
  }
 },
 "nbformat": 4,
 "nbformat_minor": 5
}
