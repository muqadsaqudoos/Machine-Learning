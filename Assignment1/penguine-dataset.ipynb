{
 "cells": [
  {
   "cell_type": "code",
   "execution_count": 1,
   "id": "97c4fd88",
   "metadata": {
    "_cell_guid": "b1076dfc-b9ad-4769-8c92-a6c4dae69d19",
    "_uuid": "8f2839f25d086af736a60e9eeb907d3b93b6e0e5",
    "execution": {
     "iopub.execute_input": "2025-02-15T12:45:23.514070Z",
     "iopub.status.busy": "2025-02-15T12:45:23.513662Z",
     "iopub.status.idle": "2025-02-15T12:45:24.798869Z",
     "shell.execute_reply": "2025-02-15T12:45:24.797690Z"
    },
    "papermill": {
     "duration": 1.292578,
     "end_time": "2025-02-15T12:45:24.800983",
     "exception": false,
     "start_time": "2025-02-15T12:45:23.508405",
     "status": "completed"
    },
    "tags": []
   },
   "outputs": [
    {
     "name": "stdout",
     "output_type": "stream",
     "text": [
      "/kaggle/input/penguins/penguins.csv\n"
     ]
    }
   ],
   "source": [
    "# This Python 3 environment comes with many helpful analytics libraries installed\n",
    "# It is defined by the kaggle/python Docker image: https://github.com/kaggle/docker-python\n",
    "# For example, here's several helpful packages to load\n",
    "\n",
    "import numpy as np # linear algebra\n",
    "import pandas as pd # data processing, CSV file I/O (e.g. pd.read_csv)\n",
    "\n",
    "# Input data files are available in the read-only \"../input/\" directory\n",
    "# For example, running this (by clicking run or pressing Shift+Enter) will list all files under the input directory\n",
    "\n",
    "import os\n",
    "for dirname, _, filenames in os.walk('/kaggle/input'):\n",
    "    for filename in filenames:\n",
    "        print(os.path.join(dirname, filename))\n",
    "\n",
    "# You can write up to 20GB to the current directory (/kaggle/working/) that gets preserved as output when you create a version using \"Save & Run All\" \n",
    "# You can also write temporary files to /kaggle/temp/, but they won't be saved outside of the current session"
   ]
  },
  {
   "cell_type": "code",
   "execution_count": 2,
   "id": "b6d03976",
   "metadata": {
    "execution": {
     "iopub.execute_input": "2025-02-15T12:45:24.809726Z",
     "iopub.status.busy": "2025-02-15T12:45:24.809191Z",
     "iopub.status.idle": "2025-02-15T12:45:24.855687Z",
     "shell.execute_reply": "2025-02-15T12:45:24.854115Z"
    },
    "papermill": {
     "duration": 0.052638,
     "end_time": "2025-02-15T12:45:24.857639",
     "exception": false,
     "start_time": "2025-02-15T12:45:24.805001",
     "status": "completed"
    },
    "tags": []
   },
   "outputs": [
    {
     "name": "stdout",
     "output_type": "stream",
     "text": [
      "   Unnamed: 0 species     island  bill_length_mm  bill_depth_mm  \\\n",
      "0           1  Adelie  Torgersen            39.1           18.7   \n",
      "1           2  Adelie  Torgersen            39.5           17.4   \n",
      "2           3  Adelie  Torgersen            40.3           18.0   \n",
      "3           4  Adelie  Torgersen             NaN            NaN   \n",
      "4           5  Adelie  Torgersen            36.7           19.3   \n",
      "\n",
      "   flipper_length_mm  body_mass_g     sex  year  \n",
      "0              181.0       3750.0    male  2007  \n",
      "1              186.0       3800.0  female  2007  \n",
      "2              195.0       3250.0  female  2007  \n",
      "3                NaN          NaN     NaN  2007  \n",
      "4              193.0       3450.0  female  2007  \n"
     ]
    },
    {
     "name": "stderr",
     "output_type": "stream",
     "text": [
      "/usr/local/lib/python3.10/dist-packages/pandas/io/formats/format.py:1458: RuntimeWarning: invalid value encountered in greater\n",
      "  has_large_values = (abs_vals > 1e6).any()\n",
      "/usr/local/lib/python3.10/dist-packages/pandas/io/formats/format.py:1459: RuntimeWarning: invalid value encountered in less\n",
      "  has_small_values = ((abs_vals < 10 ** (-self.digits)) & (abs_vals > 0)).any()\n",
      "/usr/local/lib/python3.10/dist-packages/pandas/io/formats/format.py:1459: RuntimeWarning: invalid value encountered in greater\n",
      "  has_small_values = ((abs_vals < 10 ** (-self.digits)) & (abs_vals > 0)).any()\n"
     ]
    }
   ],
   "source": [
    "import pandas as pd\n",
    "df = pd.read_csv(\"/kaggle/input/penguins/penguins.csv\")\n",
    "print(df.head())"
   ]
  },
  {
   "cell_type": "code",
   "execution_count": 3,
   "id": "477e3014",
   "metadata": {
    "execution": {
     "iopub.execute_input": "2025-02-15T12:45:24.866189Z",
     "iopub.status.busy": "2025-02-15T12:45:24.865803Z",
     "iopub.status.idle": "2025-02-15T12:45:24.871582Z",
     "shell.execute_reply": "2025-02-15T12:45:24.870233Z"
    },
    "papermill": {
     "duration": 0.012273,
     "end_time": "2025-02-15T12:45:24.873474",
     "exception": false,
     "start_time": "2025-02-15T12:45:24.861201",
     "status": "completed"
    },
    "tags": []
   },
   "outputs": [
    {
     "name": "stdout",
     "output_type": "stream",
     "text": [
      "Index(['Unnamed: 0', 'species', 'island', 'bill_length_mm', 'bill_depth_mm',\n",
      "       'flipper_length_mm', 'body_mass_g', 'sex', 'year'],\n",
      "      dtype='object')\n"
     ]
    }
   ],
   "source": [
    "print(df.columns)"
   ]
  },
  {
   "cell_type": "code",
   "execution_count": 4,
   "id": "5008d2c3",
   "metadata": {
    "execution": {
     "iopub.execute_input": "2025-02-15T12:45:24.882081Z",
     "iopub.status.busy": "2025-02-15T12:45:24.881679Z",
     "iopub.status.idle": "2025-02-15T12:45:24.909168Z",
     "shell.execute_reply": "2025-02-15T12:45:24.907623Z"
    },
    "papermill": {
     "duration": 0.034332,
     "end_time": "2025-02-15T12:45:24.911492",
     "exception": false,
     "start_time": "2025-02-15T12:45:24.877160",
     "status": "completed"
    },
    "tags": []
   },
   "outputs": [
    {
     "name": "stdout",
     "output_type": "stream",
     "text": [
      "  species     island  bill_length_mm  bill_depth_mm  flipper_length_mm  \\\n",
      "1  Adelie  Torgersen            39.1           18.7              181.0   \n",
      "2  Adelie  Torgersen            39.5           17.4              186.0   \n",
      "3  Adelie  Torgersen            40.3           18.0              195.0   \n",
      "4  Adelie  Torgersen             NaN            NaN                NaN   \n",
      "5  Adelie  Torgersen            36.7           19.3              193.0   \n",
      "\n",
      "   body_mass_g     sex  year  \n",
      "1       3750.0    male  2007  \n",
      "2       3800.0  female  2007  \n",
      "3       3250.0  female  2007  \n",
      "4          NaN     NaN  2007  \n",
      "5       3450.0  female  2007  \n"
     ]
    },
    {
     "name": "stderr",
     "output_type": "stream",
     "text": [
      "/usr/local/lib/python3.10/dist-packages/pandas/io/formats/format.py:1458: RuntimeWarning: invalid value encountered in greater\n",
      "  has_large_values = (abs_vals > 1e6).any()\n",
      "/usr/local/lib/python3.10/dist-packages/pandas/io/formats/format.py:1459: RuntimeWarning: invalid value encountered in less\n",
      "  has_small_values = ((abs_vals < 10 ** (-self.digits)) & (abs_vals > 0)).any()\n",
      "/usr/local/lib/python3.10/dist-packages/pandas/io/formats/format.py:1459: RuntimeWarning: invalid value encountered in greater\n",
      "  has_small_values = ((abs_vals < 10 ** (-self.digits)) & (abs_vals > 0)).any()\n"
     ]
    }
   ],
   "source": [
    "df = pd.read_csv(\"/kaggle/input/penguins/penguins.csv\",index_col = 0)\n",
    "print(df.head())"
   ]
  },
  {
   "cell_type": "code",
   "execution_count": 5,
   "id": "3e5612ab",
   "metadata": {
    "execution": {
     "iopub.execute_input": "2025-02-15T12:45:24.920607Z",
     "iopub.status.busy": "2025-02-15T12:45:24.920229Z",
     "iopub.status.idle": "2025-02-15T12:45:24.929196Z",
     "shell.execute_reply": "2025-02-15T12:45:24.927800Z"
    },
    "papermill": {
     "duration": 0.015637,
     "end_time": "2025-02-15T12:45:24.931102",
     "exception": false,
     "start_time": "2025-02-15T12:45:24.915465",
     "status": "completed"
    },
    "tags": []
   },
   "outputs": [
    {
     "name": "stdout",
     "output_type": "stream",
     "text": [
      "species               0\n",
      "island                0\n",
      "bill_length_mm        2\n",
      "bill_depth_mm         2\n",
      "flipper_length_mm     2\n",
      "body_mass_g           2\n",
      "sex                  11\n",
      "year                  0\n",
      "dtype: int64\n"
     ]
    }
   ],
   "source": [
    "print(df.isnull().sum())"
   ]
  },
  {
   "cell_type": "code",
   "execution_count": 6,
   "id": "aa718cb7",
   "metadata": {
    "execution": {
     "iopub.execute_input": "2025-02-15T12:45:24.940022Z",
     "iopub.status.busy": "2025-02-15T12:45:24.939678Z",
     "iopub.status.idle": "2025-02-15T12:45:24.949819Z",
     "shell.execute_reply": "2025-02-15T12:45:24.948358Z"
    },
    "papermill": {
     "duration": 0.017074,
     "end_time": "2025-02-15T12:45:24.952136",
     "exception": false,
     "start_time": "2025-02-15T12:45:24.935062",
     "status": "completed"
    },
    "tags": []
   },
   "outputs": [
    {
     "name": "stdout",
     "output_type": "stream",
     "text": [
      "species               0\n",
      "island                0\n",
      "bill_length_mm        0\n",
      "bill_depth_mm         0\n",
      "flipper_length_mm     0\n",
      "body_mass_g           0\n",
      "sex                  11\n",
      "year                  0\n",
      "dtype: int64\n"
     ]
    }
   ],
   "source": [
    "df['bill_length_mm'] = df['bill_length_mm'].fillna(df['bill_length_mm'].mean())\n",
    "df['bill_depth_mm'] = df['bill_depth_mm'].fillna(df['bill_depth_mm'].mean())\n",
    "df['flipper_length_mm'] = df['flipper_length_mm'].fillna(df['flipper_length_mm'].mean())\n",
    "df['body_mass_g'] = df['body_mass_g'].fillna(df['body_mass_g'].mean())\n",
    "print(df.isnull().sum())"
   ]
  },
  {
   "cell_type": "code",
   "execution_count": 7,
   "id": "1598dae4",
   "metadata": {
    "execution": {
     "iopub.execute_input": "2025-02-15T12:45:24.962203Z",
     "iopub.status.busy": "2025-02-15T12:45:24.961846Z",
     "iopub.status.idle": "2025-02-15T12:45:24.975682Z",
     "shell.execute_reply": "2025-02-15T12:45:24.974189Z"
    },
    "papermill": {
     "duration": 0.020456,
     "end_time": "2025-02-15T12:45:24.977474",
     "exception": false,
     "start_time": "2025-02-15T12:45:24.957018",
     "status": "completed"
    },
    "tags": []
   },
   "outputs": [
    {
     "name": "stdout",
     "output_type": "stream",
     "text": [
      "species              0\n",
      "island               0\n",
      "bill_length_mm       0\n",
      "bill_depth_mm        0\n",
      "flipper_length_mm    0\n",
      "body_mass_g          0\n",
      "sex                  0\n",
      "year                 0\n",
      "dtype: int64\n",
      "  species     island  bill_length_mm  bill_depth_mm  flipper_length_mm  \\\n",
      "1  Adelie  Torgersen        39.10000       18.70000         181.000000   \n",
      "2  Adelie  Torgersen        39.50000       17.40000         186.000000   \n",
      "3  Adelie  Torgersen        40.30000       18.00000         195.000000   \n",
      "4  Adelie  Torgersen        43.92193       17.15117         200.915205   \n",
      "5  Adelie  Torgersen        36.70000       19.30000         193.000000   \n",
      "\n",
      "   body_mass_g     sex  year  \n",
      "1  3750.000000    male  2007  \n",
      "2  3800.000000  female  2007  \n",
      "3  3250.000000  female  2007  \n",
      "4  4201.754386    male  2007  \n",
      "5  3450.000000  female  2007  \n"
     ]
    }
   ],
   "source": [
    "df['sex'] = df['sex'].fillna(df['sex'].mode()[0])\n",
    "print(df.isnull().sum())\n",
    "print(df.head())"
   ]
  },
  {
   "cell_type": "code",
   "execution_count": 8,
   "id": "f2ff5cff",
   "metadata": {
    "execution": {
     "iopub.execute_input": "2025-02-15T12:45:24.987107Z",
     "iopub.status.busy": "2025-02-15T12:45:24.986696Z",
     "iopub.status.idle": "2025-02-15T12:45:24.999806Z",
     "shell.execute_reply": "2025-02-15T12:45:24.998500Z"
    },
    "papermill": {
     "duration": 0.020221,
     "end_time": "2025-02-15T12:45:25.001854",
     "exception": false,
     "start_time": "2025-02-15T12:45:24.981633",
     "status": "completed"
    },
    "tags": []
   },
   "outputs": [
    {
     "name": "stdout",
     "output_type": "stream",
     "text": [
      "species\n",
      "Adelie       152\n",
      "Gentoo       124\n",
      "Chinstrap     68\n",
      "Name: count, dtype: int64\n",
      "sex\n",
      "male      179\n",
      "female    165\n",
      "Name: count, dtype: int64\n",
      "island\n",
      "Biscoe       168\n",
      "Dream        124\n",
      "Torgersen     52\n",
      "Name: count, dtype: int64\n"
     ]
    }
   ],
   "source": [
    "print(df['species'].value_counts())\n",
    "print(df['sex'].value_counts())\n",
    "print(df[\"island\"].value_counts())  \n"
   ]
  },
  {
   "cell_type": "code",
   "execution_count": 9,
   "id": "9ae893a0",
   "metadata": {
    "execution": {
     "iopub.execute_input": "2025-02-15T12:45:25.011583Z",
     "iopub.status.busy": "2025-02-15T12:45:25.011197Z",
     "iopub.status.idle": "2025-02-15T12:45:26.809640Z",
     "shell.execute_reply": "2025-02-15T12:45:26.808225Z"
    },
    "papermill": {
     "duration": 1.805731,
     "end_time": "2025-02-15T12:45:26.812051",
     "exception": false,
     "start_time": "2025-02-15T12:45:25.006320",
     "status": "completed"
    },
    "tags": []
   },
   "outputs": [
    {
     "name": "stdout",
     "output_type": "stream",
     "text": [
      "   species  bill_length_mm  bill_depth_mm  flipper_length_mm  body_mass_g  \\\n",
      "1        0              39             18                181         3750   \n",
      "2        0              39             17                186         3800   \n",
      "3        0              40             18                195         3250   \n",
      "4        0              43             17                200         4201   \n",
      "5        0              36             19                193         3450   \n",
      "\n",
      "   year  island_Biscoe  island_Dream  island_Torgersen  sex_female  sex_male  \n",
      "1  2007              0             0                 1           0         1  \n",
      "2  2007              0             0                 1           1         0  \n",
      "3  2007              0             0                 1           1         0  \n",
      "4  2007              0             0                 1           0         1  \n",
      "5  2007              0             0                 1           1         0  \n"
     ]
    }
   ],
   "source": [
    "from sklearn.preprocessing import LabelEncoder\n",
    "\n",
    "label_encoder = LabelEncoder()\n",
    "df[\"species\"] = label_encoder.fit_transform(df[\"species\"])\n",
    "df = pd.get_dummies(df, columns=['island', 'sex']).astype(int)\n",
    "print(df.head())\n"
   ]
  },
  {
   "cell_type": "code",
   "execution_count": 10,
   "id": "b0e6e477",
   "metadata": {
    "execution": {
     "iopub.execute_input": "2025-02-15T12:45:26.821916Z",
     "iopub.status.busy": "2025-02-15T12:45:26.821374Z",
     "iopub.status.idle": "2025-02-15T12:45:26.834911Z",
     "shell.execute_reply": "2025-02-15T12:45:26.833486Z"
    },
    "papermill": {
     "duration": 0.020555,
     "end_time": "2025-02-15T12:45:26.836910",
     "exception": false,
     "start_time": "2025-02-15T12:45:26.816355",
     "status": "completed"
    },
    "tags": []
   },
   "outputs": [],
   "source": [
    "from sklearn.preprocessing import StandardScaler\n",
    "\n",
    "scaler = StandardScaler()\n",
    "num_cols = [\"bill_length_mm\", \"bill_depth_mm\", \"flipper_length_mm\", \"body_mass_g\"]\n",
    "df[num_cols] = scaler.fit_transform(df[num_cols])\n"
   ]
  },
  {
   "cell_type": "code",
   "execution_count": 11,
   "id": "356c23e3",
   "metadata": {
    "execution": {
     "iopub.execute_input": "2025-02-15T12:45:26.846616Z",
     "iopub.status.busy": "2025-02-15T12:45:26.846130Z",
     "iopub.status.idle": "2025-02-15T12:45:26.854991Z",
     "shell.execute_reply": "2025-02-15T12:45:26.853714Z"
    },
    "papermill": {
     "duration": 0.015942,
     "end_time": "2025-02-15T12:45:26.857112",
     "exception": false,
     "start_time": "2025-02-15T12:45:26.841170",
     "status": "completed"
    },
    "tags": []
   },
   "outputs": [
    {
     "name": "stdout",
     "output_type": "stream",
     "text": [
      "   species  bill_length_mm  bill_depth_mm  flipper_length_mm  body_mass_g  \\\n",
      "1        0       -0.824027       0.642589          -1.422090    -0.565784   \n",
      "2        0       -0.824027       0.139057          -1.064958    -0.503162   \n",
      "3        0       -0.640435       0.642589          -0.422121    -1.191997   \n",
      "4        0       -0.089661       0.139057          -0.064990    -0.000939   \n",
      "5        0       -1.374801       1.146121          -0.564974    -0.941512   \n",
      "\n",
      "   year  island_Biscoe  island_Dream  island_Torgersen  sex_female  sex_male  \n",
      "1  2007              0             0                 1           0         1  \n",
      "2  2007              0             0                 1           1         0  \n",
      "3  2007              0             0                 1           1         0  \n",
      "4  2007              0             0                 1           0         1  \n",
      "5  2007              0             0                 1           1         0  \n"
     ]
    }
   ],
   "source": [
    "print(df.head())"
   ]
  },
  {
   "cell_type": "code",
   "execution_count": 12,
   "id": "f90cfe70",
   "metadata": {
    "execution": {
     "iopub.execute_input": "2025-02-15T12:45:26.866819Z",
     "iopub.status.busy": "2025-02-15T12:45:26.866392Z",
     "iopub.status.idle": "2025-02-15T12:45:27.056085Z",
     "shell.execute_reply": "2025-02-15T12:45:27.054996Z"
    },
    "papermill": {
     "duration": 0.196803,
     "end_time": "2025-02-15T12:45:27.058193",
     "exception": false,
     "start_time": "2025-02-15T12:45:26.861390",
     "status": "completed"
    },
    "tags": []
   },
   "outputs": [],
   "source": [
    "from sklearn.model_selection import train_test_split\n",
    "\n",
    "X = df.drop(columns=[\"species\"])  # Features\n",
    "y = df[\"species\"]  # Target variable\n",
    "\n",
    "X_train, X_test, y_train, y_test = train_test_split(X, y, test_size=0.2, random_state=42)\n"
   ]
  }
 ],
 "metadata": {
  "kaggle": {
   "accelerator": "none",
   "dataSources": [
    {
     "datasetId": 1154655,
     "sourceId": 1935698,
     "sourceType": "datasetVersion"
    }
   ],
   "dockerImageVersionId": 30886,
   "isGpuEnabled": false,
   "isInternetEnabled": false,
   "language": "python",
   "sourceType": "notebook"
  },
  "kernelspec": {
   "display_name": "Python 3",
   "language": "python",
   "name": "python3"
  },
  "language_info": {
   "codemirror_mode": {
    "name": "ipython",
    "version": 3
   },
   "file_extension": ".py",
   "mimetype": "text/x-python",
   "name": "python",
   "nbconvert_exporter": "python",
   "pygments_lexer": "ipython3",
   "version": "3.10.12"
  },
  "papermill": {
   "default_parameters": {},
   "duration": 7.354116,
   "end_time": "2025-02-15T12:45:27.784223",
   "environment_variables": {},
   "exception": null,
   "input_path": "__notebook__.ipynb",
   "output_path": "__notebook__.ipynb",
   "parameters": {},
   "start_time": "2025-02-15T12:45:20.430107",
   "version": "2.6.0"
  }
 },
 "nbformat": 4,
 "nbformat_minor": 5
}
